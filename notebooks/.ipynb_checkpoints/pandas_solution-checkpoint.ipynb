{
 "cells": [
  {
   "cell_type": "code",
   "execution_count": 1,
   "id": "d20c4b44",
   "metadata": {},
   "outputs": [],
   "source": [
    "import pandas as pd\n",
    "\n",
    "# let's import the dataset as a pandas dataframe\n",
    "df = pd.read_csv(\"../datasets/OnlineRetail.csv\")"
   ]
  },
  {
   "cell_type": "code",
   "execution_count": 2,
   "id": "d2e32e7c",
   "metadata": {},
   "outputs": [
    {
     "data": {
      "text/html": [
       "<div>\n",
       "<style scoped>\n",
       "    .dataframe tbody tr th:only-of-type {\n",
       "        vertical-align: middle;\n",
       "    }\n",
       "\n",
       "    .dataframe tbody tr th {\n",
       "        vertical-align: top;\n",
       "    }\n",
       "\n",
       "    .dataframe thead th {\n",
       "        text-align: right;\n",
       "    }\n",
       "</style>\n",
       "<table border=\"1\" class=\"dataframe\">\n",
       "  <thead>\n",
       "    <tr style=\"text-align: right;\">\n",
       "      <th></th>\n",
       "      <th>InvoiceNo</th>\n",
       "      <th>StockCode</th>\n",
       "      <th>Description</th>\n",
       "      <th>Quantity</th>\n",
       "      <th>InvoiceDate</th>\n",
       "      <th>UnitPrice</th>\n",
       "      <th>CustomerID</th>\n",
       "      <th>Country</th>\n",
       "    </tr>\n",
       "  </thead>\n",
       "  <tbody>\n",
       "    <tr>\n",
       "      <th>0</th>\n",
       "      <td>536365</td>\n",
       "      <td>85123A</td>\n",
       "      <td>WHITE HANGING HEART T-LIGHT HOLDER</td>\n",
       "      <td>6</td>\n",
       "      <td>12/1/2010 8:26</td>\n",
       "      <td>2.55</td>\n",
       "      <td>17850.0</td>\n",
       "      <td>United Kingdom</td>\n",
       "    </tr>\n",
       "    <tr>\n",
       "      <th>1</th>\n",
       "      <td>536365</td>\n",
       "      <td>71053</td>\n",
       "      <td>WHITE METAL LANTERN</td>\n",
       "      <td>6</td>\n",
       "      <td>12/1/2010 8:26</td>\n",
       "      <td>3.39</td>\n",
       "      <td>17850.0</td>\n",
       "      <td>United Kingdom</td>\n",
       "    </tr>\n",
       "    <tr>\n",
       "      <th>2</th>\n",
       "      <td>536365</td>\n",
       "      <td>84406B</td>\n",
       "      <td>CREAM CUPID HEARTS COAT HANGER</td>\n",
       "      <td>8</td>\n",
       "      <td>12/1/2010 8:26</td>\n",
       "      <td>2.75</td>\n",
       "      <td>17850.0</td>\n",
       "      <td>United Kingdom</td>\n",
       "    </tr>\n",
       "    <tr>\n",
       "      <th>3</th>\n",
       "      <td>536365</td>\n",
       "      <td>84029G</td>\n",
       "      <td>KNITTED UNION FLAG HOT WATER BOTTLE</td>\n",
       "      <td>6</td>\n",
       "      <td>12/1/2010 8:26</td>\n",
       "      <td>3.39</td>\n",
       "      <td>17850.0</td>\n",
       "      <td>United Kingdom</td>\n",
       "    </tr>\n",
       "    <tr>\n",
       "      <th>4</th>\n",
       "      <td>536365</td>\n",
       "      <td>84029E</td>\n",
       "      <td>RED WOOLLY HOTTIE WHITE HEART.</td>\n",
       "      <td>6</td>\n",
       "      <td>12/1/2010 8:26</td>\n",
       "      <td>3.39</td>\n",
       "      <td>17850.0</td>\n",
       "      <td>United Kingdom</td>\n",
       "    </tr>\n",
       "  </tbody>\n",
       "</table>\n",
       "</div>"
      ],
      "text/plain": [
       "  InvoiceNo StockCode                          Description  Quantity  \\\n",
       "0    536365    85123A   WHITE HANGING HEART T-LIGHT HOLDER         6   \n",
       "1    536365     71053                  WHITE METAL LANTERN         6   \n",
       "2    536365    84406B       CREAM CUPID HEARTS COAT HANGER         8   \n",
       "3    536365    84029G  KNITTED UNION FLAG HOT WATER BOTTLE         6   \n",
       "4    536365    84029E       RED WOOLLY HOTTIE WHITE HEART.         6   \n",
       "\n",
       "      InvoiceDate  UnitPrice  CustomerID         Country  \n",
       "0  12/1/2010 8:26       2.55     17850.0  United Kingdom  \n",
       "1  12/1/2010 8:26       3.39     17850.0  United Kingdom  \n",
       "2  12/1/2010 8:26       2.75     17850.0  United Kingdom  \n",
       "3  12/1/2010 8:26       3.39     17850.0  United Kingdom  \n",
       "4  12/1/2010 8:26       3.39     17850.0  United Kingdom  "
      ]
     },
     "execution_count": 2,
     "metadata": {},
     "output_type": "execute_result"
    }
   ],
   "source": [
    "# let's inspect some few entries\n",
    "df.head()"
   ]
  },
  {
   "cell_type": "code",
   "execution_count": 27,
   "id": "fea385a0",
   "metadata": {},
   "outputs": [
    {
     "name": "stdout",
     "output_type": "stream",
     "text": [
      "<class 'pandas.core.frame.DataFrame'>\n",
      "RangeIndex: 541909 entries, 0 to 541908\n",
      "Data columns (total 8 columns):\n",
      " #   Column       Non-Null Count   Dtype  \n",
      "---  ------       --------------   -----  \n",
      " 0   InvoiceNo    541909 non-null  object \n",
      " 1   StockCode    541909 non-null  object \n",
      " 2   Description  540455 non-null  object \n",
      " 3   Quantity     541909 non-null  int64  \n",
      " 4   InvoiceDate  541909 non-null  object \n",
      " 5   UnitPrice    541909 non-null  float64\n",
      " 6   CustomerID   406829 non-null  float64\n",
      " 7   Country      541909 non-null  object \n",
      "dtypes: float64(2), int64(1), object(5)\n",
      "memory usage: 33.1+ MB\n"
     ]
    }
   ],
   "source": [
    "# let's see if there are columns with missing data\n",
    "df.info() # there are missing descriptions and customer ids"
   ]
  },
  {
   "cell_type": "code",
   "execution_count": null,
   "id": "774c7ff4",
   "metadata": {},
   "outputs": [],
   "source": [
    "# group transactions by invoice\n",
    "grouped_by_invoice = df.groupby(['InvoiceNo'])"
   ]
  },
  {
   "cell_type": "code",
   "execution_count": 11,
   "id": "4fdee5e8",
   "metadata": {},
   "outputs": [
    {
     "data": {
      "text/html": [
       "<div>\n",
       "<style scoped>\n",
       "    .dataframe tbody tr th:only-of-type {\n",
       "        vertical-align: middle;\n",
       "    }\n",
       "\n",
       "    .dataframe tbody tr th {\n",
       "        vertical-align: top;\n",
       "    }\n",
       "\n",
       "    .dataframe thead th {\n",
       "        text-align: right;\n",
       "    }\n",
       "</style>\n",
       "<table border=\"1\" class=\"dataframe\">\n",
       "  <thead>\n",
       "    <tr style=\"text-align: right;\">\n",
       "      <th></th>\n",
       "      <th>Quantity</th>\n",
       "    </tr>\n",
       "    <tr>\n",
       "      <th>StockCode</th>\n",
       "      <th></th>\n",
       "    </tr>\n",
       "  </thead>\n",
       "  <tbody>\n",
       "    <tr>\n",
       "      <th>22197</th>\n",
       "      <td>56450</td>\n",
       "    </tr>\n",
       "  </tbody>\n",
       "</table>\n",
       "</div>"
      ],
      "text/plain": [
       "           Quantity\n",
       "StockCode          \n",
       "22197         56450"
      ]
     },
     "execution_count": 11,
     "metadata": {},
     "output_type": "execute_result"
    }
   ],
   "source": [
    "# product that sold the most (using total amount of items sold)\n",
    "products_sold = df.groupby([\"StockCode\"]).agg({'Quantity': 'sum'})\n",
    "\n",
    "max_sold_quantity = products_sold[\"Quantity\"].max()\n",
    "\n",
    "# list products with max amount of products sold\n",
    "products_sold[products_sold[\"Quantity\"] == max_sold_quantity]"
   ]
  },
  {
   "cell_type": "code",
   "execution_count": 21,
   "id": "3cff4fda",
   "metadata": {},
   "outputs": [
    {
     "data": {
      "text/html": [
       "<div>\n",
       "<style scoped>\n",
       "    .dataframe tbody tr th:only-of-type {\n",
       "        vertical-align: middle;\n",
       "    }\n",
       "\n",
       "    .dataframe tbody tr th {\n",
       "        vertical-align: top;\n",
       "    }\n",
       "\n",
       "    .dataframe thead th {\n",
       "        text-align: right;\n",
       "    }\n",
       "</style>\n",
       "<table border=\"1\" class=\"dataframe\">\n",
       "  <thead>\n",
       "    <tr style=\"text-align: right;\">\n",
       "      <th></th>\n",
       "      <th>Spent</th>\n",
       "      <th>CustomerID</th>\n",
       "    </tr>\n",
       "    <tr>\n",
       "      <th>InvoiceNo</th>\n",
       "      <th></th>\n",
       "      <th></th>\n",
       "    </tr>\n",
       "  </thead>\n",
       "  <tbody>\n",
       "    <tr>\n",
       "      <th>536365</th>\n",
       "      <td>139.12</td>\n",
       "      <td>17850.0</td>\n",
       "    </tr>\n",
       "    <tr>\n",
       "      <th>536366</th>\n",
       "      <td>22.20</td>\n",
       "      <td>17850.0</td>\n",
       "    </tr>\n",
       "    <tr>\n",
       "      <th>536367</th>\n",
       "      <td>278.73</td>\n",
       "      <td>13047.0</td>\n",
       "    </tr>\n",
       "    <tr>\n",
       "      <th>536368</th>\n",
       "      <td>70.05</td>\n",
       "      <td>13047.0</td>\n",
       "    </tr>\n",
       "    <tr>\n",
       "      <th>536369</th>\n",
       "      <td>17.85</td>\n",
       "      <td>13047.0</td>\n",
       "    </tr>\n",
       "  </tbody>\n",
       "</table>\n",
       "</div>"
      ],
      "text/plain": [
       "            Spent  CustomerID\n",
       "InvoiceNo                    \n",
       "536365     139.12     17850.0\n",
       "536366      22.20     17850.0\n",
       "536367     278.73     13047.0\n",
       "536368      70.05     13047.0\n",
       "536369      17.85     13047.0"
      ]
     },
     "execution_count": 21,
     "metadata": {},
     "output_type": "execute_result"
    }
   ],
   "source": [
    "# customer that spent the most money I (money spent by invoice)\n",
    "\n",
    "# calculate money spent per product in an invoice (one invoice can have multiple products)\n",
    "df_with_spent = df.assign(Spent= df[\"Quantity\"] * df[\"UnitPrice\"])\n",
    "\n",
    "# aggregate money spent per invoice\n",
    "# we assume an invoice belong to a single customer\n",
    "spent_by_invoice = df_with_spent.groupby(['InvoiceNo']).agg({'Spent': 'sum', 'CustomerID': 'first'})\n",
    "\n",
    "spent_by_invoice.head()"
   ]
  },
  {
   "cell_type": "code",
   "execution_count": 24,
   "id": "c3e7c8e1",
   "metadata": {},
   "outputs": [
    {
     "data": {
      "text/html": [
       "<div>\n",
       "<style scoped>\n",
       "    .dataframe tbody tr th:only-of-type {\n",
       "        vertical-align: middle;\n",
       "    }\n",
       "\n",
       "    .dataframe tbody tr th {\n",
       "        vertical-align: top;\n",
       "    }\n",
       "\n",
       "    .dataframe thead th {\n",
       "        text-align: right;\n",
       "    }\n",
       "</style>\n",
       "<table border=\"1\" class=\"dataframe\">\n",
       "  <thead>\n",
       "    <tr style=\"text-align: right;\">\n",
       "      <th></th>\n",
       "      <th>Spent</th>\n",
       "    </tr>\n",
       "    <tr>\n",
       "      <th>CustomerID</th>\n",
       "      <th></th>\n",
       "    </tr>\n",
       "  </thead>\n",
       "  <tbody>\n",
       "    <tr>\n",
       "      <th>14646.0</th>\n",
       "      <td>279489.02</td>\n",
       "    </tr>\n",
       "  </tbody>\n",
       "</table>\n",
       "</div>"
      ],
      "text/plain": [
       "                Spent\n",
       "CustomerID           \n",
       "14646.0     279489.02"
      ]
     },
     "execution_count": 24,
     "metadata": {},
     "output_type": "execute_result"
    }
   ],
   "source": [
    "# customer that spent the most money II (money spent by customer)\n",
    "spent_by_customer = spent_by_invoice.groupby(['CustomerID']).agg({'Spent': 'sum'})\n",
    "\n",
    "max_money_spent = spent_by_customer[\"Spent\"].max()\n",
    "\n",
    "# list customers that spent the most\n",
    "spent_by_customer[spent_by_customer[\"Spent\"] == max_money_spent]"
   ]
  },
  {
   "cell_type": "code",
   "execution_count": 56,
   "id": "e48fa634",
   "metadata": {},
   "outputs": [
    {
     "data": {
      "text/plain": [
       "Country      StockCode\n",
       "Australia    22720        10\n",
       "             20725         9\n",
       "             21731         9\n",
       "             22090         8\n",
       "             22138         8\n",
       "                          ..\n",
       "Unspecified  85179C        1\n",
       "             85180A        1\n",
       "             85180B        1\n",
       "             85212         1\n",
       "             85213         1\n",
       "Name: StockCode, Length: 19839, dtype: int64"
      ]
     },
     "execution_count": 56,
     "metadata": {},
     "output_type": "execute_result"
    }
   ],
   "source": [
    "# distribution of products per country (i.e. what products are bought per country)\n",
    "\n",
    "# nr of entries per country\n",
    "# df[\"Country\"].value_counts()\n",
    "# nr countries = 38\n",
    "#df[\"Country\"].value_counts().count()\n",
    "\n",
    "# nr of entries per product\n",
    "#df[\"StockCode\"].value_counts()\n",
    "# nr of products = 4070\n",
    "# df[\"StockCode\"].value_counts().count()\n",
    "\n",
    "# df_grouped_by_country = df.groupby([\"Country\", \"StockCode\"])\n",
    "# nr entries grouped by country and stockcode = 19839\n",
    "\n",
    "df_grouped_by_country = df.groupby([\"Country\"])\n",
    "# per_product_per_country = df_grouped_by_country.groupby[\"StockCode\"]\n",
    "#per_product_per_country = df_grouped_by_country[\"StockCode\"].value_counts().head()\n",
    "# df_grouped_by_country[\"StockCode\"].value_counts()"
   ]
  },
  {
   "cell_type": "code",
   "execution_count": 57,
   "id": "8d1a118f",
   "metadata": {},
   "outputs": [],
   "source": [
    "# distribution of countries per product (i.e which countries buy the most a particular product)"
   ]
  },
  {
   "cell_type": "code",
   "execution_count": 58,
   "id": "dbcce9ab",
   "metadata": {},
   "outputs": [
    {
     "data": {
      "text/plain": [
       "StockCode     UnitPrice\n",
       "10002         0.85         50\n",
       "              1.66         14\n",
       "              1.63          7\n",
       "              0.00          2\n",
       "10080         0.39         21\n",
       "                           ..\n",
       "gift_0001_40  33.33         2\n",
       "              34.04         1\n",
       "gift_0001_50  41.67         3\n",
       "              42.55         1\n",
       "m             2.55          1\n",
       "Name: UnitPrice, Length: 17304, dtype: int64"
      ]
     },
     "execution_count": 58,
     "metadata": {},
     "output_type": "execute_result"
    }
   ],
   "source": [
    "# average unit price per product\n",
    "\n",
    "# do all product instances have the same price if they are the same product?\n",
    "df.groupby([\"StockCode\"])[\"UnitPrice\"].value_counts() # No. A given product can have different prices per transaction"
   ]
  },
  {
   "cell_type": "code",
   "execution_count": 59,
   "id": "7425b118",
   "metadata": {},
   "outputs": [
    {
     "data": {
      "text/plain": [
       "StockCode\n",
       "10002            1.056849\n",
       "10080            0.376667\n",
       "10120            0.210000\n",
       "10123C           0.487500\n",
       "10123G           0.000000\n",
       "                  ...    \n",
       "gift_0001_20    15.038000\n",
       "gift_0001_30    21.941250\n",
       "gift_0001_40    33.566667\n",
       "gift_0001_50    41.890000\n",
       "m                2.550000\n",
       "Name: UnitPrice, Length: 4070, dtype: float64"
      ]
     },
     "execution_count": 59,
     "metadata": {},
     "output_type": "execute_result"
    }
   ],
   "source": [
    "# average unit price per product\n",
    "df.groupby([\"StockCode\"])[\"UnitPrice\"].mean()"
   ]
  },
  {
   "cell_type": "code",
   "execution_count": 60,
   "id": "07c826d5",
   "metadata": {},
   "outputs": [
    {
     "data": {
      "text/plain": [
       "4.930757294891827"
      ]
     },
     "execution_count": 60,
     "metadata": {},
     "output_type": "execute_result"
    }
   ],
   "source": [
    "# average unit price across all products\n",
    "df.groupby([\"StockCode\"])[\"UnitPrice\"].mean().mean()"
   ]
  },
  {
   "cell_type": "code",
   "execution_count": 61,
   "id": "55062d77",
   "metadata": {},
   "outputs": [
    {
     "data": {
      "text/plain": [
       "4.611113626088513"
      ]
     },
     "execution_count": 61,
     "metadata": {},
     "output_type": "execute_result"
    }
   ],
   "source": [
    "# this should be equivalent to the mean of the whole column.\n",
    "# why is this not the case?\n",
    "df[\"UnitPrice\"].mean()"
   ]
  },
  {
   "cell_type": "code",
   "execution_count": 62,
   "id": "54b6b4b5",
   "metadata": {},
   "outputs": [],
   "source": [
    "# ratio between price and quantity PER invoice (not per product)\n",
    "# df.groupby([\"InvoiceNo\"]).agg({'Spent': 'sum', 'CustomerID': 'first'})"
   ]
  },
  {
   "cell_type": "code",
   "execution_count": null,
   "id": "79eb715a",
   "metadata": {},
   "outputs": [],
   "source": [
    "# nr transactions per country"
   ]
  }
 ],
 "metadata": {
  "kernelspec": {
   "display_name": "Python 3 (ipykernel)",
   "language": "python",
   "name": "python3"
  },
  "language_info": {
   "codemirror_mode": {
    "name": "ipython",
    "version": 3
   },
   "file_extension": ".py",
   "mimetype": "text/x-python",
   "name": "python",
   "nbconvert_exporter": "python",
   "pygments_lexer": "ipython3",
   "version": "3.8.10"
  }
 },
 "nbformat": 4,
 "nbformat_minor": 5
}
